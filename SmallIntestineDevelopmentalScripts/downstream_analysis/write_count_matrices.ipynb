{
 "cells": [
  {
   "cell_type": "code",
   "execution_count": 1,
   "id": "southwest-visiting",
   "metadata": {},
   "outputs": [],
   "source": [
    "import scvelo as scv\n",
    "import scanpy as sc\n",
    "import pandas as pd\n",
    "import numpy as np\n",
    "import matplotlib.pyplot as plt\n",
    "import scanpy.external as sce\n",
    "from scipy.sparse import vstack"
   ]
  },
  {
   "cell_type": "code",
   "execution_count": 2,
   "id": "promotional-dining",
   "metadata": {},
   "outputs": [],
   "source": [
    "adata = sc.read(\"../../output/adata_anno_2.h5ad\")"
   ]
  },
  {
   "cell_type": "code",
   "execution_count": 6,
   "id": "prepared-clothing",
   "metadata": {},
   "outputs": [],
   "source": [
    "adata.obs['louvain_semisup'] = pd.Categorical(adata.obs['louvain_semisup'], \n",
    "                     categories=[\"Early\", \"Early Neurons\", \"Late 1\", \"Late 2\", \"Late Neurons\",\"Adult Neurons\",\"Glia 1\", \"Glia 2\"],\n",
    "                    ordered=True)"
   ]
  },
  {
   "cell_type": "code",
   "execution_count": 8,
   "id": "individual-terrace",
   "metadata": {},
   "outputs": [],
   "source": [
    "adata.obs['louvain_semisup'] = pd.Categorical(adata.obs['louvain_semisup'], \n",
    "                     categories=[\"Early\", \"Early Neurons\", \"Late 1\", \"Late 2\", \"Late Neurons\",\"Adult Neurons\",\"Glia 1\", \"Glia 2\"],\n",
    "                    ordered=True)\n",
    "new_cluster_names = [\"eEP\", \"eENP\", \"lEP1\", \"lEP2\", \"lENP\",\"ENC\",\"EGC1\", \"EGC2\"]\n",
    "adata.rename_categories('louvain_semisup', new_cluster_names)"
   ]
  },
  {
   "cell_type": "code",
   "execution_count": 9,
   "id": "aquatic-tract",
   "metadata": {},
   "outputs": [],
   "source": [
    "#save adata to file\n",
    "adata.write(\"../../output/adata_anno_new.h5ad\")\n",
    "\n",
    "data_mat = adata.X.T\n",
    "\n",
    "dat = pd.DataFrame(data_mat)\n",
    "dat.index = adata.var_names\n",
    "dat.columns = adata.obs_names\n",
    "\n",
    "dat.to_csv(\"../../output/adata_anno_new.csv\")\n",
    "adata.obs.to_csv(\"../../output/adata_obs_anno_new.csv\")\n",
    "adata.var.to_csv(\"../../output/adata_var_anno_new.csv\")\n"
   ]
  },
  {
   "cell_type": "code",
   "execution_count": 10,
   "id": "natural-jackson",
   "metadata": {},
   "outputs": [],
   "source": [
    "#save counts to file\n",
    "data_mat = adata.layers[\"counts\"].T\n",
    "\n",
    "dat = pd.DataFrame(data_mat)\n",
    "dat.index = adata.var_names\n",
    "dat.columns = adata.obs_names\n",
    "\n",
    "dat.to_csv(\"../../output/adata_anno_counts_new.csv\")\n",
    "\n"
   ]
  }
 ],
 "metadata": {
  "kernelspec": {
   "display_name": "Python 3 (ipykernel)",
   "language": "python",
   "name": "python3"
  },
  "language_info": {
   "codemirror_mode": {
    "name": "ipython",
    "version": 3
   },
   "file_extension": ".py",
   "mimetype": "text/x-python",
   "name": "python",
   "nbconvert_exporter": "python",
   "pygments_lexer": "ipython3",
   "version": "3.10.5"
  }
 },
 "nbformat": 4,
 "nbformat_minor": 5
}
